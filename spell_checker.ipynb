{
  "nbformat": 4,
  "nbformat_minor": 0,
  "metadata": {
    "colab": {
      "name": "spell checker.ipynb",
      "provenance": [],
      "collapsed_sections": []
    },
    "kernelspec": {
      "name": "python3",
      "display_name": "Python 3"
    },
    "language_info": {
      "name": "python"
    }
  },
  "cells": [
    {
      "cell_type": "code",
      "metadata": {
        "colab": {
          "base_uri": "https://localhost:8080/"
        },
        "id": "-8eVMr6boEPC",
        "outputId": "80275557-aa29-40af-9937-72b771617c99"
      },
      "source": [
        "%load_ext autoreload\n",
        "%autoreload 2"
      ],
      "execution_count": 24,
      "outputs": [
        {
          "output_type": "stream",
          "text": [
            "The autoreload extension is already loaded. To reload it, use:\n",
            "  %reload_ext autoreload\n"
          ],
          "name": "stdout"
        }
      ]
    },
    {
      "cell_type": "code",
      "metadata": {
        "colab": {
          "base_uri": "https://localhost:8080/"
        },
        "id": "9nwgz2k4rXuQ",
        "outputId": "445016db-e368-4528-d1ba-30d80f44d751"
      },
      "source": [
        "%cd /content/drive/MyDrive/NLP/spell checker/python"
      ],
      "execution_count": 2,
      "outputs": [
        {
          "output_type": "stream",
          "text": [
            "/content/drive/MyDrive/NLP/spell checker/python\n"
          ],
          "name": "stdout"
        }
      ]
    },
    {
      "cell_type": "code",
      "metadata": {
        "id": "xpFz1o8jsEpB"
      },
      "source": [
        "data = './../data/holbrook-tagged-train.dat'"
      ],
      "execution_count": 4,
      "outputs": []
    },
    {
      "cell_type": "code",
      "metadata": {
        "colab": {
          "base_uri": "https://localhost:8080/"
        },
        "id": "9JBjjU8Utxz9",
        "outputId": "5505944d-e9d3-4c8d-8320-422579e7c1fe"
      },
      "source": [
        "!python SpellCorrect.py\n"
      ],
      "execution_count": 30,
      "outputs": [
        {
          "output_type": "stream",
          "text": [
            "Uniform Language Model: \n",
            "correct: 84 total: 471 accuracy: 0.178344\n",
            "Laplace Unigram Language Model: \n",
            "correct: 101 total: 471 accuracy: 0.214437\n",
            "Laplace Bigram Language Model: \n",
            "correct: 87 total: 471 accuracy: 0.184713\n",
            "Stupid Backoff Language Model: \n",
            "correct: 27 total: 471 accuracy: 0.057325\n"
          ],
          "name": "stdout"
        }
      ]
    },
    {
      "cell_type": "code",
      "metadata": {
        "id": "kYQaSn2HHn4V"
      },
      "source": [
        "from SpellCorrect import *"
      ],
      "execution_count": 8,
      "outputs": []
    },
    {
      "cell_type": "code",
      "metadata": {
        "id": "EoBXwODjHpxX"
      },
      "source": [
        "trainPath = '../data/holbrook-tagged-train.dat'\n",
        "trainingCorpus = HolbrookCorpus(trainPath)\n",
        "\n",
        "laplaceUnigramLM = LaplaceUnigramLanguageModel(trainingCorpus)\n",
        "laplaceUnigramSpell = SpellCorrect(laplaceUnigramLM, trainingCorpus)\n"
      ],
      "execution_count": 10,
      "outputs": []
    },
    {
      "cell_type": "code",
      "metadata": {
        "colab": {
          "base_uri": "https://localhost:8080/"
        },
        "id": "p6gb6Z1-RJeq",
        "outputId": "d104c3c5-bda1-4b1f-d755-8e20b1010ed6"
      },
      "source": [
        "laplaceUnigramSpell.correctSentence('my nam is '.split(' '))"
      ],
      "execution_count": 22,
      "outputs": [
        {
          "output_type": "execute_result",
          "data": {
            "text/plain": [
              "['my', 'name', 'is', '']"
            ]
          },
          "metadata": {
            "tags": []
          },
          "execution_count": 22
        }
      ]
    }
  ]
}